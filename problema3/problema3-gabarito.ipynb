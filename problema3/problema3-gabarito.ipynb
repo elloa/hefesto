{
 "cells": [
  {
   "cell_type": "markdown",
   "metadata": {},
   "source": [
    "# Problema 3 - Reconhecendo dígitos manuscritos\n",
    "\n",
    "\n",
    "* Minicurso Machine Learning -- Hands on com Python\n",
    "* Samsung Ocean Manaus\n",
    "* Facilitadora: Elloá B. Guedes\n",
    "* Repositório: http://bit.ly/mlpython\n",
    "* Nome:\n",
    "* Email:"
   ]
  },
  {
   "cell_type": "markdown",
   "metadata": {},
   "source": [
    "### Bibliotecas\n",
    "\n",
    "A célula a seguir está reservada para importação de bibliotecas"
   ]
  },
  {
   "cell_type": "code",
   "execution_count": 1,
   "metadata": {
    "collapsed": true
   },
   "outputs": [],
   "source": [
    "import mnist\n",
    "from sklearn.neural_network import MLPClassifier\n",
    "from sklearn.metrics import accuracy_score\n",
    "from sklearn.neighbors import KNeighborsClassifier\n",
    "from sklearn import tree"
   ]
  },
  {
   "cell_type": "markdown",
   "metadata": {},
   "source": [
    "### Obtendo o conjunto de dados\n",
    "\n",
    "1. Obtenha o dataset do MNIST\n",
    "       1.1 Vamos utilizar o [Projeto MNIST-for-Numpy](https://github.com/hsjeong5/MNIST-for-Numpy) para nos ajudar\n",
    "       1.2 Baixe o arquivo mnist.py do nosso repositório\n",
    "       1.3 Coloque-o na mesma pasta do Jupyter Notebook do problema 3\n",
    "       1.4 Adicione import mnist\n",
    "       1.5 Faça mnist.init() para download dos arquivos\n",
    "2. Particione o dataset em dados de treino e teste\n",
    "       2.1 60 mil primeiros exemplos para treino\n",
    "       2.2 10 mil exemplos seguintes para teste\n",
    "       2.3 Conforme documentação do projeto, faça: X_train, y_train, X_test, y_test = mnist.load()\n",
    "3. Imprima o exemplo no índice 5 dos dados de treino e seu respectivo rótulo\n",
    "       3.1 Visualize o atributo preditor conforme array e também como imagem"
   ]
  },
  {
   "cell_type": "code",
   "execution_count": 2,
   "metadata": {},
   "outputs": [
    {
     "name": "stdout",
     "output_type": "stream",
     "text": [
      "Downloading train-images-idx3-ubyte.gz...\n",
      "Downloading t10k-images-idx3-ubyte.gz...\n",
      "Downloading train-labels-idx1-ubyte.gz...\n",
      "Downloading t10k-labels-idx1-ubyte.gz...\n",
      "Download complete.\n",
      "Save complete.\n"
     ]
    }
   ],
   "source": [
    "mnist.init()"
   ]
  },
  {
   "cell_type": "code",
   "execution_count": 3,
   "metadata": {},
   "outputs": [],
   "source": [
    "X_train, y_train, X_test, y_test = mnist.load()"
   ]
  },
  {
   "cell_type": "code",
   "execution_count": 4,
   "metadata": {},
   "outputs": [
    {
     "data": {
      "text/plain": [
       "array([  0,   0,   0,   0,   0,   0,   0,   0,   0,   0,   0,   0,   0,\n",
       "         0,   0,   0,   0,   0,   0,   0,   0,   0,   0,   0,   0,   0,\n",
       "         0,   0,   0,   0,   0,   0,   0,   0,   0,   0,   0,   0,   0,\n",
       "         0,   0,   0,   0,   0,   0,   0,   0,   0,   0,   0,   0,   0,\n",
       "         0,   0,   0,   0,   0,   0,   0,   0,   0,   0,   0,   0,   0,\n",
       "         0,   0,   0,   0,   0,   0,   0,   0,   0,   0,   0,   0,   0,\n",
       "         0,   0,   0,   0,   0,   0,   0,   0,   0,   0,   0,   0,   0,\n",
       "         0,   0,   0,   0,   0,   0,   0,   0,   0,   0,   0,   0,   0,\n",
       "         0,   0,   0,   0,   0,   0,   0,   0,   0,   0,   0,   0,   0,\n",
       "         0,   0,   0,   0,   0,   0,   0,   0,   0,   0,   0,   0,   0,\n",
       "         0,   0,   0,   0,   0,   0,   0,   0,   0,   0,   0,   0,   0,\n",
       "         0,   0,   0,   0,   0,   0,   0,   0,   0,   0,   0,   0,  13,\n",
       "        25, 100, 122,   7,   0,   0,   0,   0,   0,   0,   0,   0,   0,\n",
       "         0,   0,   0,   0,   0,   0,   0,   0,   0,   0,   0,   0,  33,\n",
       "       151, 208, 252, 252, 252, 146,   0,   0,   0,   0,   0,   0,   0,\n",
       "         0,   0,   0,   0,   0,   0,   0,   0,   0,   0,   0,   0,  40,\n",
       "       152, 244, 252, 253, 224, 211, 252, 232,  40,   0,   0,   0,   0,\n",
       "         0,   0,   0,   0,   0,   0,   0,   0,   0,   0,   0,   0,  15,\n",
       "       152, 239, 252, 252, 252, 216,  31,  37, 252, 252,  60,   0,   0,\n",
       "         0,   0,   0,   0,   0,   0,   0,   0,   0,   0,   0,   0,   0,\n",
       "         0,  96, 252, 252, 252, 252, 217,  29,   0,  37, 252, 252,  60,\n",
       "         0,   0,   0,   0,   0,   0,   0,   0,   0,   0,   0,   0,   0,\n",
       "         0,   0,   0, 181, 252, 252, 220, 167,  30,   0,   0,  77, 252,\n",
       "       252,  60,   0,   0,   0,   0,   0,   0,   0,   0,   0,   0,   0,\n",
       "         0,   0,   0,   0,   0,  26, 128,  58,  22,   0,   0,   0,   0,\n",
       "       100, 252, 252,  60,   0,   0,   0,   0,   0,   0,   0,   0,   0,\n",
       "         0,   0,   0,   0,   0,   0,   0,   0,   0,   0,   0,   0,   0,\n",
       "         0,   0, 157, 252, 252,  60,   0,   0,   0,   0,   0,   0,   0,\n",
       "         0,   0,   0,   0,   0,   0,   0,   0,   0,   0,   0,   0,   0,\n",
       "       110, 121, 122, 121, 202, 252, 194,   3,   0,   0,   0,   0,   0,\n",
       "         0,   0,   0,   0,   0,   0,   0,   0,   0,   0,   0,   0,  10,\n",
       "        53, 179, 253, 253, 255, 253, 253, 228,  35,   0,   0,   0,   0,\n",
       "         0,   0,   0,   0,   0,   0,   0,   0,   0,   0,   0,   0,   5,\n",
       "        54, 227, 252, 243, 228, 170, 242, 252, 252, 231, 117,   6,   0,\n",
       "         0,   0,   0,   0,   0,   0,   0,   0,   0,   0,   0,   0,   0,\n",
       "         6,  78, 252, 252, 125,  59,   0,  18, 208, 252, 252, 252, 252,\n",
       "        87,   7,   0,   0,   0,   0,   0,   0,   0,   0,   0,   0,   0,\n",
       "         0,   5, 135, 252, 252, 180,  16,   0,  21, 203, 253, 247, 129,\n",
       "       173, 252, 252, 184,  66,  49,  49,   0,   0,   0,   0,   0,   0,\n",
       "         0,   0,   3, 136, 252, 241, 106,  17,   0,  53, 200, 252, 216,\n",
       "        65,   0,  14,  72, 163, 241, 252, 252, 223,   0,   0,   0,   0,\n",
       "         0,   0,   0,   0, 105, 252, 242,  88,  18,  73, 170, 244, 252,\n",
       "       126,  29,   0,   0,   0,   0,   0,  89, 180, 180,  37,   0,   0,\n",
       "         0,   0,   0,   0,   0,   0, 231, 252, 245, 205, 216, 252, 252,\n",
       "       252, 124,   3,   0,   0,   0,   0,   0,   0,   0,   0,   0,   0,\n",
       "         0,   0,   0,   0,   0,   0,   0,   0, 207, 252, 252, 252, 252,\n",
       "       178, 116,  36,   4,   0,   0,   0,   0,   0,   0,   0,   0,   0,\n",
       "         0,   0,   0,   0,   0,   0,   0,   0,   0,   0,  13,  93, 143,\n",
       "       121,  23,   6,   0,   0,   0,   0,   0,   0,   0,   0,   0,   0,\n",
       "         0,   0,   0,   0,   0,   0,   0,   0,   0,   0,   0,   0,   0,\n",
       "         0,   0,   0,   0,   0,   0,   0,   0,   0,   0,   0,   0,   0,\n",
       "         0,   0,   0,   0,   0,   0,   0,   0,   0,   0,   0,   0,   0,\n",
       "         0,   0,   0,   0,   0,   0,   0,   0,   0,   0,   0,   0,   0,\n",
       "         0,   0,   0,   0,   0,   0,   0,   0,   0,   0,   0,   0,   0,\n",
       "         0,   0,   0,   0,   0,   0,   0,   0,   0,   0,   0,   0,   0,\n",
       "         0,   0,   0,   0,   0,   0,   0,   0,   0,   0,   0,   0,   0,\n",
       "         0,   0,   0,   0,   0,   0,   0,   0,   0,   0,   0,   0,   0,\n",
       "         0,   0,   0,   0,   0,   0,   0,   0,   0,   0,   0,   0,   0,\n",
       "         0,   0,   0,   0,   0,   0,   0,   0,   0,   0,   0,   0,   0,\n",
       "         0,   0,   0,   0,   0,   0,   0,   0,   0,   0,   0,   0,   0,\n",
       "         0,   0,   0,   0], dtype=uint8)"
      ]
     },
     "execution_count": 4,
     "metadata": {},
     "output_type": "execute_result"
    }
   ],
   "source": [
    "X_train[5]"
   ]
  },
  {
   "cell_type": "code",
   "execution_count": 5,
   "metadata": {},
   "outputs": [
    {
     "data": {
      "text/plain": [
       "2"
      ]
     },
     "execution_count": 5,
     "metadata": {},
     "output_type": "execute_result"
    }
   ],
   "source": [
    "y_train[5]"
   ]
  },
  {
   "cell_type": "code",
   "execution_count": 6,
   "metadata": {},
   "outputs": [
    {
     "data": {
      "image/png": "[encoded data removed]",
      "text/plain": [
       "<matplotlib.figure.Figure at 0x111e67a90>"
      ]
     },
     "metadata": {},
     "output_type": "display_data"
    }
   ],
   "source": [
    "import numpy as np\n",
    "import matplotlib.pyplot as plt\n",
    "\n",
    "pixels = np.array(X_train[5], dtype='uint8')\n",
    "\n",
    "# Reshape the array into 28 x 28 array (2-dimensional array)\n",
    "pixels = pixels.reshape((28, 28))\n",
    "\n",
    "# Plot\n",
    "plt.title('Label is {label}'.format(label=y_train[5]))\n",
    "plt.imshow(pixels, cmap='gray')\n",
    "plt.show()"
   ]
  },
  {
   "cell_type": "markdown",
   "metadata": {},
   "source": [
    "## Projetando uma Rede Neural Reconhecedora de Dígitos\n",
    "\n",
    "1. Com a utilização do pacote sklearn, proponha uma rede neural multilayer perceptron para este problema\n",
    "        1.1 Utilize a classe MLPClassifier, consultando a documentação oficial em: <http://scikit-learn.org/stable/modules/generated/sklearn.neural_network.MLPClassifier.html>\n",
    "        1.2 Vamos inicialmente propor uma rede com as seguintes características:\n",
    "            * Uma camada oculta, com 5 neurônios\n",
    "            * Função de ativação sigmóide (logistic)\n",
    "            * Número de épocas máximo igual a 100 (max_iter = 100)\n",
    "            * Utilize o treinamento de maneira visual, isto é, verbose=True\n",
    "            * Os demais parâmetros devem permanecer padrões\n",
    "    1.3 Treine a rede com os dados de treinamento (X_train e y_train)"
   ]
  },
  {
   "cell_type": "code",
   "execution_count": 7,
   "metadata": {
    "collapsed": true
   },
   "outputs": [],
   "source": [
    "rede1 = MLPClassifier(hidden_layer_sizes=(5,),activation='logistic',max_iter=100,verbose=True)"
   ]
  },
  {
   "cell_type": "code",
   "execution_count": 8,
   "metadata": {},
   "outputs": [
    {
     "name": "stdout",
     "output_type": "stream",
     "text": [
      "Iteration 1, loss = 1.98701853\n",
      "Iteration 2, loss = 1.57203720\n",
      "Iteration 3, loss = 1.32131045\n",
      "Iteration 4, loss = 1.15477476\n",
      "Iteration 5, loss = 1.05624491\n",
      "Iteration 6, loss = 0.98383948\n",
      "Iteration 7, loss = 0.92407349\n",
      "Iteration 8, loss = 0.89027851\n",
      "Iteration 9, loss = 0.85136674\n",
      "Iteration 10, loss = 0.84517538\n",
      "Iteration 11, loss = 0.81841537\n",
      "Iteration 12, loss = 0.79852777\n",
      "Iteration 13, loss = 0.79160091\n",
      "Iteration 14, loss = 0.77152309\n",
      "Iteration 15, loss = 0.75309840\n",
      "Iteration 16, loss = 0.72727193\n",
      "Iteration 17, loss = 0.71872360\n",
      "Iteration 18, loss = 0.70804717\n",
      "Iteration 19, loss = 0.69939566\n",
      "Iteration 20, loss = 0.69077653\n",
      "Iteration 21, loss = 0.68217989\n",
      "Iteration 22, loss = 0.69256272\n",
      "Iteration 23, loss = 0.68122130\n",
      "Iteration 24, loss = 0.68678880\n",
      "Iteration 25, loss = 0.67925749\n",
      "Iteration 26, loss = 0.67074707\n",
      "Iteration 27, loss = 0.66540713\n",
      "Iteration 28, loss = 0.66149519\n",
      "Iteration 29, loss = 0.66633666\n",
      "Iteration 30, loss = 0.66315170\n",
      "Iteration 31, loss = 0.65591880\n",
      "Iteration 32, loss = 0.66785253\n",
      "Iteration 33, loss = 0.66110481\n",
      "Iteration 34, loss = 0.65409339\n",
      "Iteration 35, loss = 0.64910526\n",
      "Iteration 36, loss = 0.66087215\n",
      "Iteration 37, loss = 0.64476052\n",
      "Iteration 38, loss = 0.63995134\n",
      "Iteration 39, loss = 0.64930488\n",
      "Iteration 40, loss = 0.64972987\n",
      "Iteration 41, loss = 0.64985034\n",
      "Training loss did not improve more than tol=0.000100 for two consecutive epochs. Stopping.\n"
     ]
    },
    {
     "data": {
      "text/plain": [
       "MLPClassifier(activation='logistic', alpha=0.0001, batch_size='auto',\n",
       "       beta_1=0.9, beta_2=0.999, early_stopping=False, epsilon=1e-08,\n",
       "       hidden_layer_sizes=(5,), learning_rate='constant',\n",
       "       learning_rate_init=0.001, max_iter=100, momentum=0.9,\n",
       "       nesterovs_momentum=True, power_t=0.5, random_state=None,\n",
       "       shuffle=True, solver='adam', tol=0.0001, validation_fraction=0.1,\n",
       "       verbose=True, warm_start=False)"
      ]
     },
     "execution_count": 8,
     "metadata": {},
     "output_type": "execute_result"
    }
   ],
   "source": [
    "rede1.fit(X_train,y_train)"
   ]
  },
  {
   "cell_type": "markdown",
   "metadata": {},
   "source": [
    "## Avaliando a Rede Neural Proposta\n",
    "\n",
    "1. Obtenha as previsões desta rede para o conjunto de testes\n",
    "1. Considerando as previsões efetuadas, calcule a acurácia da rede\n",
    "2. Obtenha a matriz de confusão e exiba-a\n",
    "    * Lembre do que foi efetuado no problema 2, aproveite código de lá!"
   ]
  },
  {
   "cell_type": "code",
   "execution_count": 9,
   "metadata": {
    "collapsed": true
   },
   "outputs": [],
   "source": [
    "y_predict = rede1.predict(X_test)"
   ]
  },
  {
   "cell_type": "code",
   "execution_count": 10,
   "metadata": {},
   "outputs": [
    {
     "data": {
      "text/plain": [
       "0.8197"
      ]
     },
     "execution_count": 10,
     "metadata": {},
     "output_type": "execute_result"
    }
   ],
   "source": [
    "accuracy_score(y_predict,y_test)"
   ]
  },
  {
   "cell_type": "code",
   "execution_count": 11,
   "metadata": {},
   "outputs": [
    {
     "data": {
      "text/plain": [
       "array([[ 926,    0,    8,    1,    0,    9,   13,    2,   20,    1],\n",
       "       [   0, 1061,    2,   17,    3,   37,    9,    0,    5,    1],\n",
       "       [  58,    2,  749,  105,   20,    8,   53,    9,   27,    1],\n",
       "       [  17,    3,   26,  875,    5,   48,    2,   24,    2,    8],\n",
       "       [   0,    2,    6,    0,  907,    1,   19,    3,    9,   35],\n",
       "       [  16,    6,   10,   96,   13,  656,    8,    4,   63,   20],\n",
       "       [  18,    9,   23,    3,    6,    2,  865,    0,   32,    0],\n",
       "       [  10,    5,    8,   21,   38,    5,   10,  818,    1,  112],\n",
       "       [  27,   10,   40,   43,   35,  251,   19,    5,  536,    8],\n",
       "       [  10,    4,    2,   12,  111,   19,    2,   41,    4,  804]])"
      ]
     },
     "execution_count": 11,
     "metadata": {},
     "output_type": "execute_result"
    }
   ],
   "source": [
    "from sklearn.metrics import confusion_matrix\n",
    "matrizcf = confusion_matrix(y_test,y_predict)\n",
    "matrizcf"
   ]
  },
  {
   "cell_type": "code",
   "execution_count": 12,
   "metadata": {},
   "outputs": [
    {
     "data": {
      "image/png": "[encoded data removed]",
      "text/plain": [
       "<matplotlib.figure.Figure at 0x1a2311edd8>"
      ]
     },
     "metadata": {},
     "output_type": "display_data"
    }
   ],
   "source": [
    "import matplotlib.pyplot as plt\n",
    "import itertools\n",
    "\n",
    "cm = matrizcf\n",
    "cmap=plt.cm.Blues\n",
    "normalize = False\n",
    "classes =  [str(x) for x in range(0,11)]\n",
    "plt.imshow(cm, interpolation='nearest', cmap=cmap)\n",
    "plt.title('Matriz de confusao')\n",
    "plt.colorbar()\n",
    "tick_marks = np.arange(len(classes))\n",
    "plt.xticks(tick_marks, classes, rotation=45)\n",
    "plt.yticks(tick_marks, classes)\n",
    "\n",
    "fmt = '.2f' if normalize else 'd'\n",
    "thresh = cm.max() / 2.\n",
    "for i, j in itertools.product(range(cm.shape[0]), range(cm.shape[1])):\n",
    "    plt.text(j, i, format(cm[i, j], fmt))\n",
    "\n",
    "plt.tight_layout()\n",
    "plt.ylabel('Rótulo real')\n",
    "plt.xlabel('Rótulo previsto')\n",
    "plt.savefig(\"mnist-confusao.pdf\")\n",
    "plt.show()"
   ]
  },
  {
   "cell_type": "markdown",
   "metadata": {},
   "source": [
    "## Projetando outras Redes Neurais para o MNIST\n",
    "\n",
    "1. Proponha uma rede neural para este problema com mais neurônios na única camada oculta\n",
    "        1.1 Mude o número de neurônios em hidden_layers_size\n",
    "        1.2 Treine a nova rede proposta\n",
    "        1.3 Obtenha a previsão desta rede para os dados do conjunto de teste\n",
    "        1.4 Calcule a acurácia e compare-a com o resultado já existente\n",
    "2. Proponha outra rede neural com duas camadas ocultas com diferentes quantidades de neurônios e uma outra função de ativação\n",
    "        2.1 Mude o número de neurônios em hidden_layers_size\n",
    "        2.2 Defina a nova função de ativação para um dos seguintes valores ('identity', 'logistic', 'tanh', 'relu')\n",
    "            * Dica: a função de ativação ReLU é ótima para capturar não-linearidades!\n",
    "        2.2 Treine a nova rede proposta\n",
    "        2.3 Obtenha a previsão desta rede para os dados do conjunto de teste\n",
    "        2.4 Calcule a acurácia e compare-a com os resultados já existentes"
   ]
  },
  {
   "cell_type": "code",
   "execution_count": 13,
   "metadata": {},
   "outputs": [
    {
     "name": "stdout",
     "output_type": "stream",
     "text": [
      "Iteration 1, loss = 0.64277635\n",
      "Iteration 2, loss = 0.31816762\n",
      "Iteration 3, loss = 0.27827817\n",
      "Iteration 4, loss = 0.25940462\n",
      "Iteration 5, loss = 0.23783803\n",
      "Iteration 6, loss = 0.23315888\n",
      "Iteration 7, loss = 0.23126967\n",
      "Iteration 8, loss = 0.21390823\n",
      "Iteration 9, loss = 0.21589054\n",
      "Iteration 10, loss = 0.21238631\n",
      "Iteration 11, loss = 0.20271658\n",
      "Iteration 12, loss = 0.20016981\n",
      "Iteration 13, loss = 0.19814328\n",
      "Iteration 14, loss = 0.18741522\n",
      "Iteration 15, loss = 0.18250341\n",
      "Iteration 16, loss = 0.18283160\n",
      "Iteration 17, loss = 0.18442406\n",
      "Iteration 18, loss = 0.17659850\n",
      "Iteration 19, loss = 0.17559307\n",
      "Iteration 20, loss = 0.17303703\n",
      "Iteration 21, loss = 0.16859302\n",
      "Iteration 22, loss = 0.17266101\n",
      "Iteration 23, loss = 0.16752965\n",
      "Iteration 24, loss = 0.16144966\n",
      "Iteration 25, loss = 0.16489772\n",
      "Iteration 26, loss = 0.15481879\n",
      "Iteration 27, loss = 0.15299873\n",
      "Iteration 28, loss = 0.14893888\n",
      "Iteration 29, loss = 0.14994582\n",
      "Iteration 30, loss = 0.14630643\n",
      "Iteration 31, loss = 0.14776805\n",
      "Iteration 32, loss = 0.15070568\n",
      "Iteration 33, loss = 0.14460881\n",
      "Iteration 34, loss = 0.14315248\n",
      "Iteration 35, loss = 0.14383277\n",
      "Iteration 36, loss = 0.14342421\n",
      "Iteration 37, loss = 0.15671639\n",
      "Training loss did not improve more than tol=0.000100 for two consecutive epochs. Stopping.\n"
     ]
    },
    {
     "data": {
      "text/plain": [
       "MLPClassifier(activation='logistic', alpha=0.0001, batch_size='auto',\n",
       "       beta_1=0.9, beta_2=0.999, early_stopping=False, epsilon=1e-08,\n",
       "       hidden_layer_sizes=(100,), learning_rate='constant',\n",
       "       learning_rate_init=0.001, max_iter=100, momentum=0.9,\n",
       "       nesterovs_momentum=True, power_t=0.5, random_state=None,\n",
       "       shuffle=True, solver='adam', tol=0.0001, validation_fraction=0.1,\n",
       "       verbose=True, warm_start=False)"
      ]
     },
     "execution_count": 13,
     "metadata": {},
     "output_type": "execute_result"
    }
   ],
   "source": [
    "rede2 = MLPClassifier(hidden_layer_sizes=(100,),activation='logistic',max_iter=100,verbose=True)\n",
    "rede2.fit(X_train,y_train)"
   ]
  },
  {
   "cell_type": "code",
   "execution_count": 14,
   "metadata": {},
   "outputs": [
    {
     "data": {
      "text/plain": [
       "0.9486"
      ]
     },
     "execution_count": 14,
     "metadata": {},
     "output_type": "execute_result"
    }
   ],
   "source": [
    "y_predict2 = rede2.predict(X_test)\n",
    "accuracy_score(y_predict2,y_test)"
   ]
  },
  {
   "cell_type": "code",
   "execution_count": 15,
   "metadata": {},
   "outputs": [
    {
     "name": "stdout",
     "output_type": "stream",
     "text": [
      "Iteration 1, loss = 2.67336331\n",
      "Iteration 2, loss = 1.09343859\n",
      "Iteration 3, loss = 0.75102810\n",
      "Iteration 4, loss = 0.56724694\n",
      "Iteration 5, loss = 0.47399809\n",
      "Iteration 6, loss = 0.41283066\n",
      "Iteration 7, loss = 0.36826588\n",
      "Iteration 8, loss = 0.34331945\n",
      "Iteration 9, loss = 0.32097947\n",
      "Iteration 10, loss = 0.30722608\n",
      "Iteration 11, loss = 0.29458929\n",
      "Iteration 12, loss = 0.28233780\n",
      "Iteration 13, loss = 0.27241267\n",
      "Iteration 14, loss = 0.26331202\n",
      "Iteration 15, loss = 0.25450860\n",
      "Iteration 16, loss = 0.24841977\n",
      "Iteration 17, loss = 0.24192011\n",
      "Iteration 18, loss = 0.23401254\n",
      "Iteration 19, loss = 0.23139759\n",
      "Iteration 20, loss = 0.22377990\n",
      "Iteration 21, loss = 0.22335804\n",
      "Iteration 22, loss = 0.21425115\n",
      "Iteration 23, loss = 0.21044753\n",
      "Iteration 24, loss = 0.21054256\n",
      "Iteration 25, loss = 0.20392714\n",
      "Iteration 26, loss = 0.20299979\n",
      "Iteration 27, loss = 0.19620911\n",
      "Iteration 28, loss = 0.19669724\n",
      "Iteration 29, loss = 0.19133470\n",
      "Iteration 30, loss = 0.18628708\n",
      "Iteration 31, loss = 0.18490364\n",
      "Iteration 32, loss = 0.18275499\n",
      "Iteration 33, loss = 0.17991049\n",
      "Iteration 34, loss = 0.18070336\n",
      "Iteration 35, loss = 0.17615678\n",
      "Iteration 36, loss = 0.17586381\n",
      "Iteration 37, loss = 0.17684973\n",
      "Iteration 38, loss = 0.17244178\n",
      "Iteration 39, loss = 0.16839818\n",
      "Iteration 40, loss = 0.16697924\n",
      "Iteration 41, loss = 0.16595916\n",
      "Iteration 42, loss = 0.16135326\n",
      "Iteration 43, loss = 0.16250836\n",
      "Iteration 44, loss = 0.16018068\n",
      "Iteration 45, loss = 0.16011955\n",
      "Iteration 46, loss = 0.16037014\n",
      "Iteration 47, loss = 0.15720862\n",
      "Iteration 48, loss = 0.15772868\n",
      "Iteration 49, loss = 0.15304785\n",
      "Iteration 50, loss = 0.15276221\n",
      "Iteration 51, loss = 0.15030265\n",
      "Iteration 52, loss = 0.15106592\n",
      "Iteration 53, loss = 0.15044632\n",
      "Iteration 54, loss = 0.14655319\n",
      "Iteration 55, loss = 0.14546298\n",
      "Iteration 56, loss = 0.15024083\n",
      "Iteration 57, loss = 0.14328485\n",
      "Iteration 58, loss = 0.14554638\n",
      "Iteration 59, loss = 0.14542173\n",
      "Iteration 60, loss = 0.14351657\n",
      "Training loss did not improve more than tol=0.000100 for two consecutive epochs. Stopping.\n"
     ]
    },
    {
     "data": {
      "text/plain": [
       "MLPClassifier(activation='relu', alpha=0.0001, batch_size='auto', beta_1=0.9,\n",
       "       beta_2=0.999, early_stopping=False, epsilon=1e-08,\n",
       "       hidden_layer_sizes=(28, 28), learning_rate='constant',\n",
       "       learning_rate_init=0.001, max_iter=100, momentum=0.9,\n",
       "       nesterovs_momentum=True, power_t=0.5, random_state=None,\n",
       "       shuffle=True, solver='adam', tol=0.0001, validation_fraction=0.1,\n",
       "       verbose=True, warm_start=False)"
      ]
     },
     "execution_count": 15,
     "metadata": {},
     "output_type": "execute_result"
    }
   ],
   "source": [
    "rede3 = MLPClassifier(hidden_layer_sizes=(28,28),activation='relu',max_iter=100,verbose=True)\n",
    "rede3.fit(X_train,y_train)"
   ]
  },
  {
   "cell_type": "code",
   "execution_count": 16,
   "metadata": {},
   "outputs": [
    {
     "data": {
      "text/plain": [
       "0.9396"
      ]
     },
     "execution_count": 16,
     "metadata": {},
     "output_type": "execute_result"
    }
   ],
   "source": [
    "y_predict3 = rede3.predict(X_test)\n",
    "accuracy_score(y_predict3,y_test)"
   ]
  },
  {
   "cell_type": "markdown",
   "metadata": {},
   "source": [
    "## Comparando com Árvore de Decisão\n",
    "\n",
    "1. Proponha uma árvore de decisão para esta tarefa\n",
    "    * Aproveite as ideias já utilizadas no Problema 2\n",
    "2. Compare o desempenho obtido com as redes neurais que você propôs!"
   ]
  },
  {
   "cell_type": "code",
   "execution_count": 18,
   "metadata": {},
   "outputs": [
    {
     "data": {
      "text/plain": [
       "DecisionTreeClassifier(class_weight=None, criterion='gini', max_depth=None,\n",
       "            max_features=None, max_leaf_nodes=None,\n",
       "            min_impurity_decrease=0.0, min_impurity_split=None,\n",
       "            min_samples_leaf=1, min_samples_split=2,\n",
       "            min_weight_fraction_leaf=0.0, presort=False, random_state=None,\n",
       "            splitter='best')"
      ]
     },
     "execution_count": 18,
     "metadata": {},
     "output_type": "execute_result"
    }
   ],
   "source": [
    "# Adicionar no cabeçalho: from sklearn import tree\n",
    "clf = tree.DecisionTreeClassifier()\n",
    "clf.fit(X_train, y_train)"
   ]
  },
  {
   "cell_type": "code",
   "execution_count": null,
   "metadata": {
    "collapsed": true
   },
   "outputs": [],
   "source": [
    "y_predict4 = clf.predict(X_test)\n",
    "accuracy_score(y_predict4,y_test)"
   ]
  }
 ],
 "metadata": {
  "kernelspec": {
   "display_name": "Python 3",
   "language": "python",
   "name": "python3"
  },
  "language_info": {
   "codemirror_mode": {
    "name": "ipython",
    "version": 3
   },
   "file_extension": ".py",
   "mimetype": "text/x-python",
   "name": "python",
   "nbconvert_exporter": "python",
   "pygments_lexer": "ipython3",
   "version": "3.6.3"
  }
 },
 "nbformat": 4,
 "nbformat_minor": 2
}
