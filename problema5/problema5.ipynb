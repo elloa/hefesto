{
 "cells": [
  {
   "cell_type": "markdown",
   "metadata": {},
   "source": [
    "## Problema 5 - Compressão de Imagens\n",
    "* Novas Tendências -- Machine Learning  \n",
    "* Projeto Hefesto  \n",
    "* Facilitadora: Elloá B. Guedes  \n",
    "* Repositório: http://github.com/elloa/hefesto  \n",
    "* Nome:  \n",
    "* E-mail  "
   ]
  },
  {
   "cell_type": "code",
   "execution_count": null,
   "metadata": {},
   "outputs": [],
   "source": [
    "## Reservado para bibliotecas\n"
   ]
  },
  {
   "cell_type": "markdown",
   "metadata": {},
   "source": [
    "### Abertura das Imagens e Obtenção dos Pixels\n",
    "\n",
    "0. Necessário instalar o Pillow no Anaconda  \n",
    "   * conda install pillow\n",
    "1. Abrir a imagem lenna.jpg utilizando biblioteca PIL. A imagem esta no diretório local\n",
    "2. Exibir a imagem original\n",
    "3. Obtenha, com o auxílio de os, o tamanho da imagem original\n",
    "    * os.path.getsize"
   ]
  },
  {
   "cell_type": "code",
   "execution_count": null,
   "metadata": {},
   "outputs": [],
   "source": [
    "## Necessário importar: from PIL import Image\n"
   ]
  },
  {
   "cell_type": "code",
   "execution_count": null,
   "metadata": {},
   "outputs": [],
   "source": [
    "# Exibir a imagem original. Necessário importar matplotlib.pyplot as pl\n"
   ]
  },
  {
   "cell_type": "markdown",
   "metadata": {},
   "source": [
    "## Conhecendo e Preparando o Exemplo\n",
    "\n",
    "\n",
    "1. Obtenha a largura e a altura da imagem por meio dos atributos height e width\n",
    "2. Obtenha os pixels da imagem com a função getdata()\n",
    "3. Crie um DataFrame com as colunas R, G e B a partir das cores únicas existentes na imagem\n",
    "4. Visualize o cabeçalho do DataFrame\n",
    "5. Quantas cores distintas a imagem possui?"
   ]
  },
  {
   "cell_type": "code",
   "execution_count": null,
   "metadata": {},
   "outputs": [],
   "source": []
  },
  {
   "cell_type": "code",
   "execution_count": null,
   "metadata": {},
   "outputs": [],
   "source": [
    "# Obtendo uma lista de pixels da imagem\n"
   ]
  },
  {
   "cell_type": "code",
   "execution_count": null,
   "metadata": {},
   "outputs": [],
   "source": [
    "## Visualize o DataFrame\n",
    "## Conte a quantidade de cores diferentes nele presentes\n"
   ]
  },
  {
   "cell_type": "code",
   "execution_count": null,
   "metadata": {},
   "outputs": [],
   "source": []
  },
  {
   "cell_type": "markdown",
   "metadata": {},
   "source": [
    "## Quantização de imagens com Aprendizado Não-Supervisionado\n",
    "\n",
    "* Uma imagem digital é uma matriz de pixels, em que cada pixel é uma tripla de números inteiros correspondendo aos parâmetros de cor no esquema RGB.  \n",
    "* A quantização de imagens é um esquema simples de compressão com perdas que substitui cores similares por uma única cor. \n",
    "* Atuando desta forma, a quantização reduz o tamanho da imagem final, uma vez que menos bits são requeridos para representar as cores.\n",
    "\n",
    "<img src=\"exemplo.png\">"
   ]
  },
  {
   "cell_type": "markdown",
   "metadata": {},
   "source": [
    "### Primeira Estratégia de Compressão: 16 Cores\n",
    "\n",
    "* Utilizar o algoritmo k-means com k=16 com as cores únicas da imagem\n",
    "* Efetuar o treinamento com estes dados\n",
    "* Prever com o modelo treinado e redesenhar a imagem original\n",
    "   * Observe que é necessário redimensionar os dados para 512 x 512\n",
    "   * Utilize a biblioteca numpy\n",
    "* Salvar a imagem e comparar o tamanho com a imagem original\n",
    "* Utilize a biblioteca os para obter o tamanho da imagem\n",
    "    * os.path.getsize\n"
   ]
  },
  {
   "cell_type": "code",
   "execution_count": null,
   "metadata": {},
   "outputs": [],
   "source": [
    "## Necessário importar from sklearn.cluster import KMeans\n"
   ]
  },
  {
   "cell_type": "code",
   "execution_count": null,
   "metadata": {},
   "outputs": [],
   "source": [
    "# Mapeamento de cores para centróides\n",
    "def predict(modelo,dataset):\n",
    "    labels = list(modelo.fit_predict(dataset))\n",
    "    centroides = list(map(tuple, modelo.cluster_centers_.astype(int)))\n",
    "    return centroides,labels"
   ]
  },
  {
   "cell_type": "code",
   "execution_count": null,
   "metadata": {},
   "outputs": [],
   "source": []
  },
  {
   "cell_type": "code",
   "execution_count": null,
   "metadata": {},
   "outputs": [],
   "source": [
    "# Vai reconstruir a imagem com as novas cores\n",
    "def compressed_im(height,width,colors,labels):\n",
    "    new_image = Image.new(mode='RGB',size=(width,height))\n",
    "    index = 0\n",
    "    for i in range(height):\n",
    "        for j in range(width):\n",
    "            new_image.putpixel((j,i),colors[labels[index]])\n",
    "            index+=1\n",
    "    return new_image"
   ]
  },
  {
   "cell_type": "code",
   "execution_count": null,
   "metadata": {},
   "outputs": [],
   "source": []
  },
  {
   "cell_type": "code",
   "execution_count": null,
   "metadata": {},
   "outputs": [],
   "source": []
  },
  {
   "cell_type": "code",
   "execution_count": null,
   "metadata": {},
   "outputs": [],
   "source": []
  },
  {
   "cell_type": "code",
   "execution_count": null,
   "metadata": {},
   "outputs": [],
   "source": []
  },
  {
   "cell_type": "markdown",
   "metadata": {},
   "source": [
    "### Primeira Estratégia de Compressão: 32 Cores\n",
    "\n",
    "* Repita o processo e compare o tamanho das imagens com as anteriores"
   ]
  },
  {
   "cell_type": "code",
   "execution_count": null,
   "metadata": {},
   "outputs": [],
   "source": []
  }
 ],
 "metadata": {
  "kernelspec": {
   "display_name": "Python 3",
   "language": "python",
   "name": "python3"
  },
  "language_info": {
   "codemirror_mode": {
    "name": "ipython",
    "version": 3
   },
   "file_extension": ".py",
   "mimetype": "text/x-python",
   "name": "python",
   "nbconvert_exporter": "python",
   "pygments_lexer": "ipython3",
   "version": "3.7.3"
  }
 },
 "nbformat": 4,
 "nbformat_minor": 2
}
